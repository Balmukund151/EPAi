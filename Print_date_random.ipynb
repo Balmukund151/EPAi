{
  "nbformat": 4,
  "nbformat_minor": 0,
  "metadata": {
    "colab": {
      "name": "Print_date_random.ipynb",
      "provenance": [],
      "collapsed_sections": []
    },
    "kernelspec": {
      "name": "python3",
      "display_name": "Python 3"
    }
  },
  "cells": [
    {
      "cell_type": "code",
      "metadata": {
        "id": "A3mEBFtMFBMz",
        "colab_type": "code",
        "colab": {
          "base_uri": "https://localhost:8080/",
          "height": 35
        },
        "outputId": "9e45db8a-7ff5-4a5f-8c9d-34c0deb58316"
      },
      "source": [
        "from datetime import datetime\n",
        "print(datetime.now())"
      ],
      "execution_count": 1,
      "outputs": [
        {
          "output_type": "stream",
          "text": [
            "2020-09-05 07:04:22.396959\n"
          ],
          "name": "stdout"
        }
      ]
    },
    {
      "cell_type": "code",
      "metadata": {
        "id": "EBDgFeyhGMY7",
        "colab_type": "code",
        "colab": {}
      },
      "source": [
        "import datetime\n",
        "import random"
      ],
      "execution_count": 6,
      "outputs": []
    },
    {
      "cell_type": "code",
      "metadata": {
        "id": "YAHQG1YNFFoK",
        "colab_type": "code",
        "colab": {}
      },
      "source": [
        "start_date = datetime.date(1901, 1, 1)\n",
        "end_date = datetime.date(2020, 9, 1)\n",
        "time_between_dates = end_date - start_date\n",
        "days_between_dates = time_between_dates.days\n",
        "random_number_of_days = random.randrange(days_between_dates)\n",
        "random_date = start_date + datetime.timedelta(days=random_number_of_days)"
      ],
      "execution_count": 7,
      "outputs": []
    },
    {
      "cell_type": "code",
      "metadata": {
        "id": "M7JgvdTDHPiu",
        "colab_type": "code",
        "colab": {}
      },
      "source": [
        "def get_date():\n",
        "  random_number_of_days = random.randrange(days_between_dates)\n",
        "  random_date = start_date + datetime.timedelta(days=random_number_of_days)\n",
        "  return random_date"
      ],
      "execution_count": 18,
      "outputs": []
    },
    {
      "cell_type": "code",
      "metadata": {
        "id": "JuRw2-iwHiNt",
        "colab_type": "code",
        "colab": {
          "base_uri": "https://localhost:8080/",
          "height": 35
        },
        "outputId": "faae4bf5-a92d-4c61-d27f-d33066784562"
      },
      "source": [
        "get_date()"
      ],
      "execution_count": 19,
      "outputs": [
        {
          "output_type": "execute_result",
          "data": {
            "text/plain": [
              "datetime.date(1988, 7, 1)"
            ]
          },
          "metadata": {
            "tags": []
          },
          "execution_count": 19
        }
      ]
    },
    {
      "cell_type": "code",
      "metadata": {
        "id": "-SMDj8L_GcHt",
        "colab_type": "code",
        "colab": {
          "base_uri": "https://localhost:8080/",
          "height": 35
        },
        "outputId": "aee049cf-74ca-4be5-fda0-bce1fcf46501"
      },
      "source": [
        "print(random_date)"
      ],
      "execution_count": 8,
      "outputs": [
        {
          "output_type": "stream",
          "text": [
            "1930-10-05\n"
          ],
          "name": "stdout"
        }
      ]
    },
    {
      "cell_type": "code",
      "metadata": {
        "id": "K7Av92MgGxZK",
        "colab_type": "code",
        "colab": {
          "base_uri": "https://localhost:8080/",
          "height": 35
        },
        "outputId": "9e679f98-6126-4141-845a-24a9d92a2378"
      },
      "source": [
        "random_date.strftime(\"%d, %B, %Y\")"
      ],
      "execution_count": 12,
      "outputs": [
        {
          "output_type": "execute_result",
          "data": {
            "application/vnd.google.colaboratory.intrinsic+json": {
              "type": "string"
            },
            "text/plain": [
              "'05, October, 1930'"
            ]
          },
          "metadata": {
            "tags": []
          },
          "execution_count": 12
        }
      ]
    },
    {
      "cell_type": "code",
      "metadata": {
        "id": "RHvmGZ78HEC8",
        "colab_type": "code",
        "colab": {
          "base_uri": "https://localhost:8080/",
          "height": 451
        },
        "outputId": "de798988-3a94-49f7-d8d7-4e84d15dc603"
      },
      "source": [
        "[get_date().strftime(\"%d, %B, %Y\") for x in range(25)]"
      ],
      "execution_count": 20,
      "outputs": [
        {
          "output_type": "execute_result",
          "data": {
            "text/plain": [
              "['21, February, 1993',\n",
              " '15, July, 1947',\n",
              " '19, June, 1946',\n",
              " '12, April, 1915',\n",
              " '26, April, 1906',\n",
              " '26, January, 2019',\n",
              " '11, November, 1974',\n",
              " '20, September, 1910',\n",
              " '18, August, 1920',\n",
              " '17, September, 2006',\n",
              " '23, March, 2005',\n",
              " '24, November, 2003',\n",
              " '16, September, 1929',\n",
              " '20, September, 2019',\n",
              " '27, March, 1962',\n",
              " '25, January, 1972',\n",
              " '02, October, 2007',\n",
              " '18, September, 1985',\n",
              " '19, April, 1993',\n",
              " '23, December, 1933',\n",
              " '07, December, 1998',\n",
              " '09, May, 1987',\n",
              " '03, June, 1911',\n",
              " '06, November, 1909',\n",
              " '07, July, 1938']"
            ]
          },
          "metadata": {
            "tags": []
          },
          "execution_count": 20
        }
      ]
    }
  ]
}